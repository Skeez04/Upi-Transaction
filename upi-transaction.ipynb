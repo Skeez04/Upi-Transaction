{
 "cells": [
  {
   "cell_type": "code",
   "execution_count": 4,
   "id": "cb6849e4",
   "metadata": {
    "_cell_guid": "b1076dfc-b9ad-4769-8c92-a6c4dae69d19",
    "_uuid": "8f2839f25d086af736a60e9eeb907d3b93b6e0e5",
    "execution": {
     "iopub.execute_input": "2022-01-22T09:43:06.002790Z",
     "iopub.status.busy": "2022-01-22T09:43:06.001690Z",
     "iopub.status.idle": "2022-01-22T09:43:06.021113Z",
     "shell.execute_reply": "2022-01-22T09:43:06.020626Z",
     "shell.execute_reply.started": "2022-01-22T09:31:57.727716Z"
    },
    "papermill": {
     "duration": 0.047338,
     "end_time": "2022-01-22T09:43:06.021214",
     "exception": false,
     "start_time": "2022-01-22T09:43:05.973876",
     "status": "completed"
    },
    "tags": []
   },
   "outputs": [],
   "source": [
    "# This Python 3 environment comes with many helpful analytics libraries installed\n",
    "# It is defined by the kaggle/python Docker image: https://github.com/kaggle/docker-python\n",
    "# For example, here's several helpful packages to load\n",
    "\n",
    "import numpy as np # linear algebra\n",
    "import pandas as pd # data processing, CSV file I/O (e.g. pd.read_csv)\n",
    "\n",
    "# Input data files are available in the read-only \"../input/\" directory\n",
    "# For example, running this (by clicking run or pressing Shift+Enter) will list all files under the input directory\n",
    "\n",
    "import os\n",
    "for dirname, _, filenames in os.walk('/kaggle/input'):\n",
    "    for filename in filenames:\n",
    "        print(os.path.join(dirname, filename))\n",
    "\n",
    "# You can write up to 20GB to the current directory (/kaggle/working/) that gets preserved as output when you create a version using \"Save & Run All\" \n",
    "# You can also write temporary files to /kaggle/temp/, but they won't be saved outside of the current session"
   ]
  },
  {
   "cell_type": "markdown",
   "id": "33a08ae1",
   "metadata": {
    "papermill": {
     "duration": 0.022455,
     "end_time": "2022-01-22T09:43:06.066987",
     "exception": false,
     "start_time": "2022-01-22T09:43:06.044532",
     "status": "completed"
    },
    "tags": []
   },
   "source": [
    "<h2>About the dataset columns</h2>\n",
    "<ul>\n",
    "    <li>\n",
    "UPI Banks - \n",
    "upi app name\n",
    "    </li>\n",
    "<li>Volume (Mn) By Costumers - \n",
    "volume of transactions</li>\n",
    "<li>Value (Cr) by Costumers - \n",
    "value of transactions</li>\n",
    "<li>Volume (Mn) - \n",
    "total volume of transactions</li>\n",
    "\n",
    "<li>Value (Cr) - \n",
    "total value of transactions</li>\n",
    "<li>Month - \n",
    "month</li>\n",
    "<li>Year - \n",
    "year</li>\n",
    "    <ul>"
   ]
  },
  {
   "cell_type": "markdown",
   "id": "71910a39",
   "metadata": {
    "papermill": {
     "duration": 0.0229,
     "end_time": "2022-01-22T09:43:06.112441",
     "exception": false,
     "start_time": "2022-01-22T09:43:06.089541",
     "status": "completed"
    },
    "tags": []
   },
   "source": [
    "# import the libraries"
   ]
  },
  {
   "cell_type": "code",
   "execution_count": 5,
   "id": "9f647505",
   "metadata": {
    "execution": {
     "iopub.execute_input": "2022-01-22T09:43:06.162644Z",
     "iopub.status.busy": "2022-01-22T09:43:06.162204Z",
     "iopub.status.idle": "2022-01-22T09:43:06.938129Z",
     "shell.execute_reply": "2022-01-22T09:43:06.937643Z",
     "shell.execute_reply.started": "2022-01-22T09:31:57.740203Z"
    },
    "papermill": {
     "duration": 0.802655,
     "end_time": "2022-01-22T09:43:06.938232",
     "exception": false,
     "start_time": "2022-01-22T09:43:06.135577",
     "status": "completed"
    },
    "tags": []
   },
   "outputs": [],
   "source": [
    "import numpy as np\n",
    "import pandas as pd\n",
    "import matplotlib.pyplot as plt\n",
    "import seaborn as sns"
   ]
  },
  {
   "cell_type": "markdown",
   "id": "d80a062b",
   "metadata": {
    "papermill": {
     "duration": 0.024073,
     "end_time": "2022-01-22T09:43:06.986814",
     "exception": false,
     "start_time": "2022-01-22T09:43:06.962741",
     "status": "completed"
    },
    "tags": []
   },
   "source": [
    "# Load the dataset"
   ]
  },
  {
   "cell_type": "code",
   "execution_count": 6,
   "id": "1d92cedf",
   "metadata": {
    "execution": {
     "iopub.execute_input": "2022-01-22T09:43:07.039024Z",
     "iopub.status.busy": "2022-01-22T09:43:07.038383Z",
     "iopub.status.idle": "2022-01-22T09:43:07.052882Z",
     "shell.execute_reply": "2022-01-22T09:43:07.053242Z",
     "shell.execute_reply.started": "2022-01-22T09:31:57.897790Z"
    },
    "papermill": {
     "duration": 0.041375,
     "end_time": "2022-01-22T09:43:07.053401",
     "exception": false,
     "start_time": "2022-01-22T09:43:07.012026",
     "status": "completed"
    },
    "tags": []
   },
   "outputs": [],
   "source": [
    "data = pd.read_csv(r\"C:\\Users\\29IN\\Desktop\\Python project\\UPI apps transaction data in 2021.csv\")"
   ]
  },
  {
   "cell_type": "code",
   "execution_count": 7,
   "id": "5a1cb059",
   "metadata": {
    "execution": {
     "iopub.execute_input": "2022-01-22T09:43:07.106388Z",
     "iopub.status.busy": "2022-01-22T09:43:07.104317Z",
     "iopub.status.idle": "2022-01-22T09:43:07.170035Z",
     "shell.execute_reply": "2022-01-22T09:43:07.170426Z",
     "shell.execute_reply.started": "2022-01-22T09:31:57.910008Z"
    },
    "papermill": {
     "duration": 0.092416,
     "end_time": "2022-01-22T09:43:07.170546",
     "exception": false,
     "start_time": "2022-01-22T09:43:07.078130",
     "status": "completed"
    },
    "tags": []
   },
   "outputs": [
    {
     "data": {
      "text/html": [
       "<style type=\"text/css\">\n",
       "#T_23e75_row0_col0, #T_23e75_row0_col1, #T_23e75_row0_col2, #T_23e75_row0_col3, #T_23e75_row0_col4, #T_23e75_row0_col5, #T_23e75_row0_col6, #T_23e75_row1_col0, #T_23e75_row1_col1, #T_23e75_row1_col2, #T_23e75_row1_col3, #T_23e75_row1_col4, #T_23e75_row1_col5, #T_23e75_row1_col6, #T_23e75_row2_col0, #T_23e75_row2_col1, #T_23e75_row2_col2, #T_23e75_row2_col3, #T_23e75_row2_col4, #T_23e75_row2_col5, #T_23e75_row2_col6, #T_23e75_row3_col0, #T_23e75_row3_col1, #T_23e75_row3_col2, #T_23e75_row3_col3, #T_23e75_row3_col4, #T_23e75_row3_col5, #T_23e75_row3_col6, #T_23e75_row4_col0, #T_23e75_row4_col1, #T_23e75_row4_col2, #T_23e75_row4_col3, #T_23e75_row4_col4, #T_23e75_row4_col5, #T_23e75_row4_col6 {\n",
       "  background-color: #ff4654;\n",
       "  color: black;\n",
       "  border-color: black;\n",
       "}\n",
       "</style>\n",
       "<table id=\"T_23e75_\">\n",
       "  <thead>\n",
       "    <tr>\n",
       "      <th class=\"blank level0\" >&nbsp;</th>\n",
       "      <th class=\"col_heading level0 col0\" >UPI Banks</th>\n",
       "      <th class=\"col_heading level0 col1\" >Volume (Mn) By Costumers</th>\n",
       "      <th class=\"col_heading level0 col2\" >Value (Cr) by Costumers</th>\n",
       "      <th class=\"col_heading level0 col3\" >Volume (Mn)</th>\n",
       "      <th class=\"col_heading level0 col4\" >Value (Cr)</th>\n",
       "      <th class=\"col_heading level0 col5\" >Month</th>\n",
       "      <th class=\"col_heading level0 col6\" >Year</th>\n",
       "    </tr>\n",
       "  </thead>\n",
       "  <tbody>\n",
       "    <tr>\n",
       "      <th id=\"T_23e75_level0_row0\" class=\"row_heading level0 row0\" >0</th>\n",
       "      <td id=\"T_23e75_row0_col0\" class=\"data row0 col0\" >Airtel Payments Bank Apps</td>\n",
       "      <td id=\"T_23e75_row0_col1\" class=\"data row0 col1\" >9.040000</td>\n",
       "      <td id=\"T_23e75_row0_col2\" class=\"data row0 col2\" >2248.490000</td>\n",
       "      <td id=\"T_23e75_row0_col3\" class=\"data row0 col3\" >15.120000</td>\n",
       "      <td id=\"T_23e75_row0_col4\" class=\"data row0 col4\" >5732.090000</td>\n",
       "      <td id=\"T_23e75_row0_col5\" class=\"data row0 col5\" >12</td>\n",
       "      <td id=\"T_23e75_row0_col6\" class=\"data row0 col6\" >2021</td>\n",
       "    </tr>\n",
       "    <tr>\n",
       "      <th id=\"T_23e75_level0_row1\" class=\"row_heading level0 row1\" >1</th>\n",
       "      <td id=\"T_23e75_row1_col0\" class=\"data row1 col0\" >Airtel Payments Bank Apps</td>\n",
       "      <td id=\"T_23e75_row1_col1\" class=\"data row1 col1\" >8.410000</td>\n",
       "      <td id=\"T_23e75_row1_col2\" class=\"data row1 col2\" >1923.950000</td>\n",
       "      <td id=\"T_23e75_row1_col3\" class=\"data row1 col3\" >15.900000</td>\n",
       "      <td id=\"T_23e75_row1_col4\" class=\"data row1 col4\" >5554.630000</td>\n",
       "      <td id=\"T_23e75_row1_col5\" class=\"data row1 col5\" >11</td>\n",
       "      <td id=\"T_23e75_row1_col6\" class=\"data row1 col6\" >2021</td>\n",
       "    </tr>\n",
       "    <tr>\n",
       "      <th id=\"T_23e75_level0_row2\" class=\"row_heading level0 row2\" >2</th>\n",
       "      <td id=\"T_23e75_row2_col0\" class=\"data row2 col0\" >Airtel Payments Bank Apps</td>\n",
       "      <td id=\"T_23e75_row2_col1\" class=\"data row2 col1\" >7.600000</td>\n",
       "      <td id=\"T_23e75_row2_col2\" class=\"data row2 col2\" >1491.340000</td>\n",
       "      <td id=\"T_23e75_row2_col3\" class=\"data row2 col3\" >14.310000</td>\n",
       "      <td id=\"T_23e75_row2_col4\" class=\"data row2 col4\" >4746.790000</td>\n",
       "      <td id=\"T_23e75_row2_col5\" class=\"data row2 col5\" >10</td>\n",
       "      <td id=\"T_23e75_row2_col6\" class=\"data row2 col6\" >2021</td>\n",
       "    </tr>\n",
       "    <tr>\n",
       "      <th id=\"T_23e75_level0_row3\" class=\"row_heading level0 row3\" >3</th>\n",
       "      <td id=\"T_23e75_row3_col0\" class=\"data row3 col0\" >Airtel Payments Bank Apps</td>\n",
       "      <td id=\"T_23e75_row3_col1\" class=\"data row3 col1\" >6.910000</td>\n",
       "      <td id=\"T_23e75_row3_col2\" class=\"data row3 col2\" >1520.920000</td>\n",
       "      <td id=\"T_23e75_row3_col3\" class=\"data row3 col3\" >11.520000</td>\n",
       "      <td id=\"T_23e75_row3_col4\" class=\"data row3 col4\" >3759.120000</td>\n",
       "      <td id=\"T_23e75_row3_col5\" class=\"data row3 col5\" >9</td>\n",
       "      <td id=\"T_23e75_row3_col6\" class=\"data row3 col6\" >2021</td>\n",
       "    </tr>\n",
       "    <tr>\n",
       "      <th id=\"T_23e75_level0_row4\" class=\"row_heading level0 row4\" >4</th>\n",
       "      <td id=\"T_23e75_row4_col0\" class=\"data row4 col0\" >Airtel Payments Bank Apps</td>\n",
       "      <td id=\"T_23e75_row4_col1\" class=\"data row4 col1\" >6.140000</td>\n",
       "      <td id=\"T_23e75_row4_col2\" class=\"data row4 col2\" >1396.650000</td>\n",
       "      <td id=\"T_23e75_row4_col3\" class=\"data row4 col3\" >9.310000</td>\n",
       "      <td id=\"T_23e75_row4_col4\" class=\"data row4 col4\" >2941.880000</td>\n",
       "      <td id=\"T_23e75_row4_col5\" class=\"data row4 col5\" >8</td>\n",
       "      <td id=\"T_23e75_row4_col6\" class=\"data row4 col6\" >2021</td>\n",
       "    </tr>\n",
       "  </tbody>\n",
       "</table>\n"
      ],
      "text/plain": [
       "<pandas.io.formats.style.Styler at 0x181064c5fd0>"
      ]
     },
     "execution_count": 7,
     "metadata": {},
     "output_type": "execute_result"
    }
   ],
   "source": [
    "data.head().style.set_properties(**{\"background-color\": \"#ff4654\",\"color\": \"black\",\"border-color\": \"black\"}) #Print the first 5 rows"
   ]
  },
  {
   "cell_type": "code",
   "execution_count": 8,
   "id": "25288f12",
   "metadata": {
    "execution": {
     "iopub.execute_input": "2022-01-22T09:43:07.222283Z",
     "iopub.status.busy": "2022-01-22T09:43:07.221798Z",
     "iopub.status.idle": "2022-01-22T09:43:07.225173Z",
     "shell.execute_reply": "2022-01-22T09:43:07.225614Z",
     "shell.execute_reply.started": "2022-01-22T09:31:57.932422Z"
    },
    "papermill": {
     "duration": 0.030827,
     "end_time": "2022-01-22T09:43:07.225740",
     "exception": false,
     "start_time": "2022-01-22T09:43:07.194913",
     "status": "completed"
    },
    "tags": []
   },
   "outputs": [
    {
     "data": {
      "text/plain": [
       "(654, 7)"
      ]
     },
     "execution_count": 8,
     "metadata": {},
     "output_type": "execute_result"
    }
   ],
   "source": [
    "data.shape #Dataset has 654 rows with 7 columns"
   ]
  },
  {
   "cell_type": "code",
   "execution_count": 9,
   "id": "a481883a",
   "metadata": {
    "execution": {
     "iopub.execute_input": "2022-01-22T09:43:07.277747Z",
     "iopub.status.busy": "2022-01-22T09:43:07.277313Z",
     "iopub.status.idle": "2022-01-22T09:43:07.290353Z",
     "shell.execute_reply": "2022-01-22T09:43:07.290769Z",
     "shell.execute_reply.started": "2022-01-22T09:31:57.982781Z"
    },
    "papermill": {
     "duration": 0.040121,
     "end_time": "2022-01-22T09:43:07.290879",
     "exception": false,
     "start_time": "2022-01-22T09:43:07.250758",
     "status": "completed"
    },
    "tags": []
   },
   "outputs": [
    {
     "name": "stdout",
     "output_type": "stream",
     "text": [
      "<class 'pandas.core.frame.DataFrame'>\n",
      "RangeIndex: 654 entries, 0 to 653\n",
      "Data columns (total 7 columns):\n",
      " #   Column                    Non-Null Count  Dtype  \n",
      "---  ------                    --------------  -----  \n",
      " 0   UPI Banks                 654 non-null    object \n",
      " 1   Volume (Mn) By Costumers  654 non-null    float64\n",
      " 2   Value (Cr) by Costumers   654 non-null    float64\n",
      " 3   Volume (Mn)               654 non-null    float64\n",
      " 4   Value (Cr)                654 non-null    float64\n",
      " 5   Month                     654 non-null    int64  \n",
      " 6   Year                      654 non-null    int64  \n",
      "dtypes: float64(4), int64(2), object(1)\n",
      "memory usage: 35.9+ KB\n"
     ]
    }
   ],
   "source": [
    "data.info() #Information about dataset's columns, like data types and non-null values count"
   ]
  },
  {
   "cell_type": "markdown",
   "id": "03dd7894",
   "metadata": {
    "papermill": {
     "duration": 0.025107,
     "end_time": "2022-01-22T09:43:07.341999",
     "exception": false,
     "start_time": "2022-01-22T09:43:07.316892",
     "status": "completed"
    },
    "tags": []
   },
   "source": [
    "# Duplicates rows check"
   ]
  },
  {
   "cell_type": "code",
   "execution_count": 10,
   "id": "5348fbf6",
   "metadata": {
    "execution": {
     "iopub.execute_input": "2022-01-22T09:43:07.405993Z",
     "iopub.status.busy": "2022-01-22T09:43:07.405552Z",
     "iopub.status.idle": "2022-01-22T09:43:07.412278Z",
     "shell.execute_reply": "2022-01-22T09:43:07.412711Z",
     "shell.execute_reply.started": "2022-01-22T09:31:57.999168Z"
    },
    "papermill": {
     "duration": 0.040035,
     "end_time": "2022-01-22T09:43:07.412837",
     "exception": false,
     "start_time": "2022-01-22T09:43:07.372802",
     "status": "completed"
    },
    "tags": []
   },
   "outputs": [
    {
     "data": {
      "text/plain": [
       "False"
      ]
     },
     "execution_count": 10,
     "metadata": {},
     "output_type": "execute_result"
    }
   ],
   "source": [
    "data.duplicated().any()"
   ]
  },
  {
   "cell_type": "markdown",
   "id": "7ec13bb2",
   "metadata": {
    "papermill": {
     "duration": 0.025051,
     "end_time": "2022-01-22T09:43:07.463082",
     "exception": false,
     "start_time": "2022-01-22T09:43:07.438031",
     "status": "completed"
    },
    "tags": []
   },
   "source": [
    "# Null values check"
   ]
  },
  {
   "cell_type": "code",
   "execution_count": 11,
   "id": "71f380a3",
   "metadata": {
    "execution": {
     "iopub.execute_input": "2022-01-22T09:43:07.515782Z",
     "iopub.status.busy": "2022-01-22T09:43:07.515362Z",
     "iopub.status.idle": "2022-01-22T09:43:07.521036Z",
     "shell.execute_reply": "2022-01-22T09:43:07.520576Z",
     "shell.execute_reply.started": "2022-01-22T09:31:58.009906Z"
    },
    "papermill": {
     "duration": 0.03302,
     "end_time": "2022-01-22T09:43:07.521131",
     "exception": false,
     "start_time": "2022-01-22T09:43:07.488111",
     "status": "completed"
    },
    "tags": []
   },
   "outputs": [
    {
     "data": {
      "text/plain": [
       "UPI Banks                   0\n",
       "Volume (Mn) By Costumers    0\n",
       "Value (Cr) by Costumers     0\n",
       "Volume (Mn)                 0\n",
       "Value (Cr)                  0\n",
       "Month                       0\n",
       "Year                        0\n",
       "dtype: int64"
      ]
     },
     "execution_count": 11,
     "metadata": {},
     "output_type": "execute_result"
    }
   ],
   "source": [
    "data.isnull().sum()"
   ]
  },
  {
   "cell_type": "code",
   "execution_count": 12,
   "id": "768179ec",
   "metadata": {
    "execution": {
     "iopub.execute_input": "2022-01-22T09:43:07.574898Z",
     "iopub.status.busy": "2022-01-22T09:43:07.574449Z",
     "iopub.status.idle": "2022-01-22T09:43:07.587216Z",
     "shell.execute_reply": "2022-01-22T09:43:07.587577Z",
     "shell.execute_reply.started": "2022-01-22T09:31:58.024815Z"
    },
    "papermill": {
     "duration": 0.040814,
     "end_time": "2022-01-22T09:43:07.587699",
     "exception": false,
     "start_time": "2022-01-22T09:43:07.546885",
     "status": "completed"
    },
    "tags": []
   },
   "outputs": [
    {
     "data": {
      "text/html": [
       "<div>\n",
       "<style scoped>\n",
       "    .dataframe tbody tr th:only-of-type {\n",
       "        vertical-align: middle;\n",
       "    }\n",
       "\n",
       "    .dataframe tbody tr th {\n",
       "        vertical-align: top;\n",
       "    }\n",
       "\n",
       "    .dataframe thead th {\n",
       "        text-align: right;\n",
       "    }\n",
       "</style>\n",
       "<table border=\"1\" class=\"dataframe\">\n",
       "  <thead>\n",
       "    <tr style=\"text-align: right;\">\n",
       "      <th></th>\n",
       "      <th>UPI Banks</th>\n",
       "      <th>Volume (Mn) By Costumers</th>\n",
       "      <th>Value (Cr) by Costumers</th>\n",
       "      <th>Volume (Mn)</th>\n",
       "      <th>Value (Cr)</th>\n",
       "      <th>Month</th>\n",
       "      <th>Year</th>\n",
       "    </tr>\n",
       "  </thead>\n",
       "  <tbody>\n",
       "    <tr>\n",
       "      <th>0</th>\n",
       "      <td>Airtel Payments Bank Apps</td>\n",
       "      <td>9.04</td>\n",
       "      <td>2248.49</td>\n",
       "      <td>15.12</td>\n",
       "      <td>5732.09</td>\n",
       "      <td>12</td>\n",
       "      <td>2021</td>\n",
       "    </tr>\n",
       "    <tr>\n",
       "      <th>1</th>\n",
       "      <td>Airtel Payments Bank Apps</td>\n",
       "      <td>8.41</td>\n",
       "      <td>1923.95</td>\n",
       "      <td>15.90</td>\n",
       "      <td>5554.63</td>\n",
       "      <td>11</td>\n",
       "      <td>2021</td>\n",
       "    </tr>\n",
       "    <tr>\n",
       "      <th>2</th>\n",
       "      <td>Airtel Payments Bank Apps</td>\n",
       "      <td>7.60</td>\n",
       "      <td>1491.34</td>\n",
       "      <td>14.31</td>\n",
       "      <td>4746.79</td>\n",
       "      <td>10</td>\n",
       "      <td>2021</td>\n",
       "    </tr>\n",
       "    <tr>\n",
       "      <th>3</th>\n",
       "      <td>Airtel Payments Bank Apps</td>\n",
       "      <td>6.91</td>\n",
       "      <td>1520.92</td>\n",
       "      <td>11.52</td>\n",
       "      <td>3759.12</td>\n",
       "      <td>9</td>\n",
       "      <td>2021</td>\n",
       "    </tr>\n",
       "    <tr>\n",
       "      <th>4</th>\n",
       "      <td>Airtel Payments Bank Apps</td>\n",
       "      <td>6.14</td>\n",
       "      <td>1396.65</td>\n",
       "      <td>9.31</td>\n",
       "      <td>2941.88</td>\n",
       "      <td>8</td>\n",
       "      <td>2021</td>\n",
       "    </tr>\n",
       "  </tbody>\n",
       "</table>\n",
       "</div>"
      ],
      "text/plain": [
       "                   UPI Banks  Volume (Mn) By Costumers  \\\n",
       "0  Airtel Payments Bank Apps                      9.04   \n",
       "1  Airtel Payments Bank Apps                      8.41   \n",
       "2  Airtel Payments Bank Apps                      7.60   \n",
       "3  Airtel Payments Bank Apps                      6.91   \n",
       "4  Airtel Payments Bank Apps                      6.14   \n",
       "\n",
       "   Value (Cr) by Costumers  Volume (Mn)  Value (Cr)  Month  Year  \n",
       "0                  2248.49        15.12     5732.09     12  2021  \n",
       "1                  1923.95        15.90     5554.63     11  2021  \n",
       "2                  1491.34        14.31     4746.79     10  2021  \n",
       "3                  1520.92        11.52     3759.12      9  2021  \n",
       "4                  1396.65         9.31     2941.88      8  2021  "
      ]
     },
     "execution_count": 12,
     "metadata": {},
     "output_type": "execute_result"
    }
   ],
   "source": [
    "data.head()"
   ]
  },
  {
   "cell_type": "code",
   "execution_count": 13,
   "id": "3ad4a3a5",
   "metadata": {
    "execution": {
     "iopub.execute_input": "2022-01-22T09:43:07.644315Z",
     "iopub.status.busy": "2022-01-22T09:43:07.643719Z",
     "iopub.status.idle": "2022-01-22T09:43:07.649930Z",
     "shell.execute_reply": "2022-01-22T09:43:07.650672Z",
     "shell.execute_reply.started": "2022-01-22T09:31:58.052109Z"
    },
    "papermill": {
     "duration": 0.037011,
     "end_time": "2022-01-22T09:43:07.650859",
     "exception": false,
     "start_time": "2022-01-22T09:43:07.613848",
     "status": "completed"
    },
    "tags": []
   },
   "outputs": [
    {
     "data": {
      "text/plain": [
       "2021    654\n",
       "Name: Year, dtype: int64"
      ]
     },
     "execution_count": 13,
     "metadata": {},
     "output_type": "execute_result"
    }
   ],
   "source": [
    "data['Year'].value_counts() # here we can see there is only one unique value in \"Year\" column so not use full for draw insights, we can drop \"Year\" column"
   ]
  },
  {
   "cell_type": "code",
   "execution_count": 14,
   "id": "50faff5c",
   "metadata": {
    "execution": {
     "iopub.execute_input": "2022-01-22T09:43:07.737173Z",
     "iopub.status.busy": "2022-01-22T09:43:07.736737Z",
     "iopub.status.idle": "2022-01-22T09:43:07.742736Z",
     "shell.execute_reply": "2022-01-22T09:43:07.743159Z",
     "shell.execute_reply.started": "2022-01-22T09:31:58.070177Z"
    },
    "papermill": {
     "duration": 0.045754,
     "end_time": "2022-01-22T09:43:07.743282",
     "exception": false,
     "start_time": "2022-01-22T09:43:07.697528",
     "status": "completed"
    },
    "tags": []
   },
   "outputs": [
    {
     "data": {
      "text/plain": [
       "Airtel Payments Bank Apps     12\n",
       "Mobikwik                      12\n",
       "ICICI Bank Apps               12\n",
       "IDBI Bank App                 12\n",
       "IDFC Bank App                 12\n",
       "                              ..\n",
       "Goibibo                        1\n",
       "Andhra Bank App                1\n",
       "Jammu and Kashmir Bank App     1\n",
       "Khalijeb                       1\n",
       "Other Bank Apps                1\n",
       "Name: UPI Banks, Length: 69, dtype: int64"
      ]
     },
     "execution_count": 14,
     "metadata": {},
     "output_type": "execute_result"
    }
   ],
   "source": [
    "data['UPI Banks'].value_counts() # Display the different types of UPI Banks payment using for Transaction."
   ]
  },
  {
   "cell_type": "code",
   "execution_count": 15,
   "id": "5d5e5bad",
   "metadata": {
    "execution": {
     "iopub.execute_input": "2022-01-22T09:43:07.801078Z",
     "iopub.status.busy": "2022-01-22T09:43:07.800622Z",
     "iopub.status.idle": "2022-01-22T09:43:08.263232Z",
     "shell.execute_reply": "2022-01-22T09:43:08.262727Z",
     "shell.execute_reply.started": "2022-01-22T09:31:58.083939Z"
    },
    "papermill": {
     "duration": 0.492278,
     "end_time": "2022-01-22T09:43:08.263387",
     "exception": false,
     "start_time": "2022-01-22T09:43:07.771109",
     "status": "completed"
    },
    "tags": []
   },
   "outputs": [
    {
     "data": {
      "image/png": "[encoded data removed]",
      "text/plain": [
       "<Figure size 720x432 with 1 Axes>"
      ]
     },
     "metadata": {
      "needs_background": "light"
     },
     "output_type": "display_data"
    }
   ],
   "source": [
    "plt.figure(figsize=(10,6))\n",
    "sns.set_style(\"whitegrid\")\n",
    "sns.lineplot(x='Month',y='Volume (Mn) By Costumers',data=data)\n",
    "plt.xlabel('Month',fontweight='bold',size = 12) \n",
    "plt.ylabel('Volume (Mn) By Costumers',fontweight='bold',size = 12) \n",
    "plt.title(\"Trend Month v/s Volume (Mn) By Costumers \",fontweight='bold',size = 12)\n",
    "plt.show()"
   ]
  },
  {
   "cell_type": "code",
   "execution_count": 16,
   "id": "d4b64e3c",
   "metadata": {
    "execution": {
     "iopub.execute_input": "2022-01-22T09:43:08.352376Z",
     "iopub.status.busy": "2022-01-22T09:43:08.351768Z",
     "iopub.status.idle": "2022-01-22T09:43:08.763873Z",
     "shell.execute_reply": "2022-01-22T09:43:08.763335Z",
     "shell.execute_reply.started": "2022-01-22T09:31:58.603445Z"
    },
    "papermill": {
     "duration": 0.458439,
     "end_time": "2022-01-22T09:43:08.763996",
     "exception": false,
     "start_time": "2022-01-22T09:43:08.305557",
     "status": "completed"
    },
    "tags": []
   },
   "outputs": [
    {
     "data": {
      "image/png": "[encoded data removed]",
      "text/plain": [
       "<Figure size 720x432 with 1 Axes>"
      ]
     },
     "metadata": {},
     "output_type": "display_data"
    }
   ],
   "source": [
    "plt.figure(figsize=(10,6))\n",
    "sns.lineplot(x=\"Month\",y='Value (Cr) by Costumers',data=data)\n",
    "plt.xlabel('Month',fontweight='bold',size = 12) \n",
    "plt.ylabel('Value (Cr) by Costumers',fontweight='bold',size = 12) \n",
    "plt.title(\" Trend Month v/s Value (Cr) by Costumers \",fontweight='bold',size = 12)\n",
    "plt.show()"
   ]
  },
  {
   "cell_type": "code",
   "execution_count": 17,
   "id": "4e92c751",
   "metadata": {
    "execution": {
     "iopub.execute_input": "2022-01-22T09:43:08.866178Z",
     "iopub.status.busy": "2022-01-22T09:43:08.858530Z",
     "iopub.status.idle": "2022-01-22T09:43:09.260293Z",
     "shell.execute_reply": "2022-01-22T09:43:09.259633Z",
     "shell.execute_reply.started": "2022-01-22T09:31:59.110569Z"
    },
    "papermill": {
     "duration": 0.452289,
     "end_time": "2022-01-22T09:43:09.260391",
     "exception": false,
     "start_time": "2022-01-22T09:43:08.808102",
     "status": "completed"
    },
    "tags": []
   },
   "outputs": [
    {
     "data": {
      "image/png": "[encoded data removed]",
      "text/plain": [
       "<Figure size 720x432 with 1 Axes>"
      ]
     },
     "metadata": {},
     "output_type": "display_data"
    }
   ],
   "source": [
    "plt.figure(figsize=(10,6))\n",
    "sns.lineplot(x=\"Month\",y='Volume (Mn)',data=data)\n",
    "plt.xlabel('Month',fontweight='bold',size = 12) \n",
    "plt.ylabel('Volume (Mn)',fontweight='bold',size = 12) \n",
    "plt.title(\" Trend Month v/s Volume (Mn) \",fontweight='bold',size = 12)\n",
    "plt.show()"
   ]
  },
  {
   "cell_type": "code",
   "execution_count": 18,
   "id": "b2d68ece",
   "metadata": {
    "execution": {
     "iopub.execute_input": "2022-01-22T09:43:09.329874Z",
     "iopub.status.busy": "2022-01-22T09:43:09.326384Z",
     "iopub.status.idle": "2022-01-22T09:43:09.858306Z",
     "shell.execute_reply": "2022-01-22T09:43:09.857770Z",
     "shell.execute_reply.started": "2022-01-22T09:31:59.612155Z"
    },
    "papermill": {
     "duration": 0.568733,
     "end_time": "2022-01-22T09:43:09.858432",
     "exception": false,
     "start_time": "2022-01-22T09:43:09.289699",
     "status": "completed"
    },
    "tags": []
   },
   "outputs": [
    {
     "data": {
      "image/png": "[encoded data removed]",
      "text/plain": [
       "<Figure size 720x432 with 1 Axes>"
      ]
     },
     "metadata": {},
     "output_type": "display_data"
    }
   ],
   "source": [
    "plt.figure(figsize=(10,6))\n",
    "sns.lineplot(x=\"Month\",y='Value (Cr)',data=data)\n",
    "plt.xlabel('Month',fontweight='bold',size = 12) \n",
    "plt.ylabel('Value (Cr)',fontweight='bold',size = 12) \n",
    "plt.title(\" Trend Month v/s Value (Cr)\",fontweight='bold',size = 12)\n",
    "plt.show()"
   ]
  },
  {
   "cell_type": "markdown",
   "id": "4e2cdaa0",
   "metadata": {
    "papermill": {
     "duration": 0.045135,
     "end_time": "2022-01-22T09:43:09.949564",
     "exception": false,
     "start_time": "2022-01-22T09:43:09.904429",
     "status": "completed"
    },
    "tags": []
   },
   "source": [
    "# Top 10 highest volume payment by UPI Banks"
   ]
  },
  {
   "cell_type": "markdown",
   "id": "5570f78a",
   "metadata": {
    "papermill": {
     "duration": 0.044753,
     "end_time": "2022-01-22T09:43:10.039623",
     "exception": false,
     "start_time": "2022-01-22T09:43:09.994870",
     "status": "completed"
    },
    "tags": []
   },
   "source": [
    "# Volume (Mn) By Costumers"
   ]
  },
  {
   "cell_type": "code",
   "execution_count": 19,
   "id": "66f5375e",
   "metadata": {
    "execution": {
     "iopub.execute_input": "2022-01-22T09:43:10.133136Z",
     "iopub.status.busy": "2022-01-22T09:43:10.132558Z",
     "iopub.status.idle": "2022-01-22T09:43:10.137069Z",
     "shell.execute_reply": "2022-01-22T09:43:10.137604Z",
     "shell.execute_reply.started": "2022-01-22T09:32:00.116589Z"
    },
    "papermill": {
     "duration": 0.052757,
     "end_time": "2022-01-22T09:43:10.137772",
     "exception": false,
     "start_time": "2022-01-22T09:43:10.085015",
     "status": "completed"
    },
    "tags": []
   },
   "outputs": [],
   "source": [
    "total = data.groupby(['UPI Banks']).agg({'Volume (Mn) By Costumers':'sum'}).reset_index()"
   ]
  },
  {
   "cell_type": "code",
   "execution_count": 20,
   "id": "b6add33d",
   "metadata": {
    "execution": {
     "iopub.execute_input": "2022-01-22T09:43:10.231194Z",
     "iopub.status.busy": "2022-01-22T09:43:10.230548Z",
     "iopub.status.idle": "2022-01-22T09:43:10.233988Z",
     "shell.execute_reply": "2022-01-22T09:43:10.234542Z",
     "shell.execute_reply.started": "2022-01-22T09:32:00.125235Z"
    },
    "papermill": {
     "duration": 0.051412,
     "end_time": "2022-01-22T09:43:10.234699",
     "exception": false,
     "start_time": "2022-01-22T09:43:10.183287",
     "status": "completed"
    },
    "tags": []
   },
   "outputs": [],
   "source": [
    "top_10_highest_volume_mn = total.sort_values(by = 'Volume (Mn) By Costumers',ascending = False)"
   ]
  },
  {
   "cell_type": "code",
   "execution_count": 21,
   "id": "b972788b",
   "metadata": {
    "execution": {
     "iopub.execute_input": "2022-01-22T09:43:10.330574Z",
     "iopub.status.busy": "2022-01-22T09:43:10.327069Z",
     "iopub.status.idle": "2022-01-22T09:43:10.334198Z",
     "shell.execute_reply": "2022-01-22T09:43:10.334762Z",
     "shell.execute_reply.started": "2022-01-22T09:32:00.139004Z"
    },
    "papermill": {
     "duration": 0.054632,
     "end_time": "2022-01-22T09:43:10.334908",
     "exception": false,
     "start_time": "2022-01-22T09:43:10.280276",
     "status": "completed"
    },
    "tags": []
   },
   "outputs": [
    {
     "data": {
      "text/html": [
       "<div>\n",
       "<style scoped>\n",
       "    .dataframe tbody tr th:only-of-type {\n",
       "        vertical-align: middle;\n",
       "    }\n",
       "\n",
       "    .dataframe tbody tr th {\n",
       "        vertical-align: top;\n",
       "    }\n",
       "\n",
       "    .dataframe thead th {\n",
       "        text-align: right;\n",
       "    }\n",
       "</style>\n",
       "<table border=\"1\" class=\"dataframe\">\n",
       "  <thead>\n",
       "    <tr style=\"text-align: right;\">\n",
       "      <th></th>\n",
       "      <th>UPI Banks</th>\n",
       "      <th>Volume (Mn) By Costumers</th>\n",
       "    </tr>\n",
       "  </thead>\n",
       "  <tbody>\n",
       "    <tr>\n",
       "      <th>51</th>\n",
       "      <td>PhonePe</td>\n",
       "      <td>17470.81</td>\n",
       "    </tr>\n",
       "    <tr>\n",
       "      <th>26</th>\n",
       "      <td>Google Pay</td>\n",
       "      <td>13541.88</td>\n",
       "    </tr>\n",
       "    <tr>\n",
       "      <th>50</th>\n",
       "      <td>Paytm Payments Bank App</td>\n",
       "      <td>4827.38</td>\n",
       "    </tr>\n",
       "    <tr>\n",
       "      <th>3</th>\n",
       "      <td>Amazon Pay</td>\n",
       "      <td>704.15</td>\n",
       "    </tr>\n",
       "    <tr>\n",
       "      <th>67</th>\n",
       "      <td>Yes Bank Apps</td>\n",
       "      <td>292.50</td>\n",
       "    </tr>\n",
       "    <tr>\n",
       "      <th>6</th>\n",
       "      <td>BHIM</td>\n",
       "      <td>289.43</td>\n",
       "    </tr>\n",
       "    <tr>\n",
       "      <th>29</th>\n",
       "      <td>ICICI Bank Apps</td>\n",
       "      <td>191.06</td>\n",
       "    </tr>\n",
       "    <tr>\n",
       "      <th>5</th>\n",
       "      <td>Axis Bank Apps</td>\n",
       "      <td>99.57</td>\n",
       "    </tr>\n",
       "    <tr>\n",
       "      <th>16</th>\n",
       "      <td>Cred</td>\n",
       "      <td>80.96</td>\n",
       "    </tr>\n",
       "    <tr>\n",
       "      <th>1</th>\n",
       "      <td>Airtel Payments Bank Apps</td>\n",
       "      <td>67.37</td>\n",
       "    </tr>\n",
       "  </tbody>\n",
       "</table>\n",
       "</div>"
      ],
      "text/plain": [
       "                    UPI Banks  Volume (Mn) By Costumers\n",
       "51                    PhonePe                  17470.81\n",
       "26                 Google Pay                  13541.88\n",
       "50    Paytm Payments Bank App                   4827.38\n",
       "3                  Amazon Pay                    704.15\n",
       "67              Yes Bank Apps                    292.50\n",
       "6                        BHIM                    289.43\n",
       "29            ICICI Bank Apps                    191.06\n",
       "5              Axis Bank Apps                     99.57\n",
       "16                       Cred                     80.96\n",
       "1   Airtel Payments Bank Apps                     67.37"
      ]
     },
     "execution_count": 21,
     "metadata": {},
     "output_type": "execute_result"
    }
   ],
   "source": [
    "top_10_highest_volume_mn.head(10)"
   ]
  },
  {
   "cell_type": "markdown",
   "id": "24e598a1",
   "metadata": {
    "papermill": {
     "duration": 0.045338,
     "end_time": "2022-01-22T09:43:10.425916",
     "exception": false,
     "start_time": "2022-01-22T09:43:10.380578",
     "status": "completed"
    },
    "tags": []
   },
   "source": [
    "# Value (Cr) by Costumers"
   ]
  },
  {
   "cell_type": "code",
   "execution_count": 22,
   "id": "f1f1320e",
   "metadata": {
    "execution": {
     "iopub.execute_input": "2022-01-22T09:43:10.520743Z",
     "iopub.status.busy": "2022-01-22T09:43:10.520146Z",
     "iopub.status.idle": "2022-01-22T09:43:10.525841Z",
     "shell.execute_reply": "2022-01-22T09:43:10.526369Z",
     "shell.execute_reply.started": "2022-01-22T09:35:29.493611Z"
    },
    "papermill": {
     "duration": 0.054756,
     "end_time": "2022-01-22T09:43:10.526518",
     "exception": false,
     "start_time": "2022-01-22T09:43:10.471762",
     "status": "completed"
    },
    "tags": []
   },
   "outputs": [],
   "source": [
    "total = data.groupby(['UPI Banks']).agg({'Value (Cr) by Costumers':'sum'}).reset_index()\n",
    "top_10_highest_volume_cr = total.sort_values(by = 'Value (Cr) by Costumers',ascending = False)"
   ]
  },
  {
   "cell_type": "code",
   "execution_count": 23,
   "id": "2b95d48b",
   "metadata": {
    "execution": {
     "iopub.execute_input": "2022-01-22T09:43:10.621156Z",
     "iopub.status.busy": "2022-01-22T09:43:10.620584Z",
     "iopub.status.idle": "2022-01-22T09:43:10.628486Z",
     "shell.execute_reply": "2022-01-22T09:43:10.627901Z",
     "shell.execute_reply.started": "2022-01-22T09:35:43.363078Z"
    },
    "papermill": {
     "duration": 0.05592,
     "end_time": "2022-01-22T09:43:10.628598",
     "exception": false,
     "start_time": "2022-01-22T09:43:10.572678",
     "status": "completed"
    },
    "tags": []
   },
   "outputs": [
    {
     "data": {
      "text/html": [
       "<div>\n",
       "<style scoped>\n",
       "    .dataframe tbody tr th:only-of-type {\n",
       "        vertical-align: middle;\n",
       "    }\n",
       "\n",
       "    .dataframe tbody tr th {\n",
       "        vertical-align: top;\n",
       "    }\n",
       "\n",
       "    .dataframe thead th {\n",
       "        text-align: right;\n",
       "    }\n",
       "</style>\n",
       "<table border=\"1\" class=\"dataframe\">\n",
       "  <thead>\n",
       "    <tr style=\"text-align: right;\">\n",
       "      <th></th>\n",
       "      <th>UPI Banks</th>\n",
       "      <th>Value (Cr) by Costumers</th>\n",
       "    </tr>\n",
       "  </thead>\n",
       "  <tbody>\n",
       "    <tr>\n",
       "      <th>51</th>\n",
       "      <td>PhonePe</td>\n",
       "      <td>3365727.16</td>\n",
       "    </tr>\n",
       "    <tr>\n",
       "      <th>26</th>\n",
       "      <td>Google Pay</td>\n",
       "      <td>2737496.81</td>\n",
       "    </tr>\n",
       "    <tr>\n",
       "      <th>50</th>\n",
       "      <td>Paytm Payments Bank App</td>\n",
       "      <td>573899.84</td>\n",
       "    </tr>\n",
       "    <tr>\n",
       "      <th>16</th>\n",
       "      <td>Cred</td>\n",
       "      <td>97013.60</td>\n",
       "    </tr>\n",
       "    <tr>\n",
       "      <th>6</th>\n",
       "      <td>BHIM</td>\n",
       "      <td>91106.89</td>\n",
       "    </tr>\n",
       "    <tr>\n",
       "      <th>67</th>\n",
       "      <td>Yes Bank Apps</td>\n",
       "      <td>61298.95</td>\n",
       "    </tr>\n",
       "    <tr>\n",
       "      <th>3</th>\n",
       "      <td>Amazon Pay</td>\n",
       "      <td>60962.34</td>\n",
       "    </tr>\n",
       "    <tr>\n",
       "      <th>29</th>\n",
       "      <td>ICICI Bank Apps</td>\n",
       "      <td>60568.91</td>\n",
       "    </tr>\n",
       "    <tr>\n",
       "      <th>60</th>\n",
       "      <td>State Bank of India Apps</td>\n",
       "      <td>25357.37</td>\n",
       "    </tr>\n",
       "    <tr>\n",
       "      <th>1</th>\n",
       "      <td>Airtel Payments Bank Apps</td>\n",
       "      <td>13317.81</td>\n",
       "    </tr>\n",
       "  </tbody>\n",
       "</table>\n",
       "</div>"
      ],
      "text/plain": [
       "                    UPI Banks  Value (Cr) by Costumers\n",
       "51                    PhonePe               3365727.16\n",
       "26                 Google Pay               2737496.81\n",
       "50    Paytm Payments Bank App                573899.84\n",
       "16                       Cred                 97013.60\n",
       "6                        BHIM                 91106.89\n",
       "67              Yes Bank Apps                 61298.95\n",
       "3                  Amazon Pay                 60962.34\n",
       "29            ICICI Bank Apps                 60568.91\n",
       "60   State Bank of India Apps                 25357.37\n",
       "1   Airtel Payments Bank Apps                 13317.81"
      ]
     },
     "execution_count": 23,
     "metadata": {},
     "output_type": "execute_result"
    }
   ],
   "source": [
    "top_10_highest_volume_cr.head(10)"
   ]
  },
  {
   "cell_type": "markdown",
   "id": "6b99d1a4",
   "metadata": {
    "papermill": {
     "duration": 0.046144,
     "end_time": "2022-01-22T09:43:10.721156",
     "exception": false,
     "start_time": "2022-01-22T09:43:10.675012",
     "status": "completed"
    },
    "tags": []
   },
   "source": [
    "# Volume (Mn)"
   ]
  },
  {
   "cell_type": "code",
   "execution_count": 24,
   "id": "34f0b18f",
   "metadata": {
    "execution": {
     "iopub.execute_input": "2022-01-22T09:43:10.818137Z",
     "iopub.status.busy": "2022-01-22T09:43:10.817541Z",
     "iopub.status.idle": "2022-01-22T09:43:10.822633Z",
     "shell.execute_reply": "2022-01-22T09:43:10.823182Z",
     "shell.execute_reply.started": "2022-01-22T09:36:59.756950Z"
    },
    "papermill": {
     "duration": 0.054663,
     "end_time": "2022-01-22T09:43:10.823331",
     "exception": false,
     "start_time": "2022-01-22T09:43:10.768668",
     "status": "completed"
    },
    "tags": []
   },
   "outputs": [],
   "source": [
    "total = data.groupby(['UPI Banks']).agg({'Volume (Mn)':'sum'}).reset_index()\n",
    "top_10_highest_volume_Mn = total.sort_values(by = 'Volume (Mn)',ascending = False)"
   ]
  },
  {
   "cell_type": "code",
   "execution_count": 25,
   "id": "ae7ce72b",
   "metadata": {
    "execution": {
     "iopub.execute_input": "2022-01-22T09:43:10.918092Z",
     "iopub.status.busy": "2022-01-22T09:43:10.917508Z",
     "iopub.status.idle": "2022-01-22T09:43:10.924326Z",
     "shell.execute_reply": "2022-01-22T09:43:10.924884Z",
     "shell.execute_reply.started": "2022-01-22T09:37:06.933354Z"
    },
    "papermill": {
     "duration": 0.055473,
     "end_time": "2022-01-22T09:43:10.925004",
     "exception": false,
     "start_time": "2022-01-22T09:43:10.869531",
     "status": "completed"
    },
    "tags": []
   },
   "outputs": [
    {
     "data": {
      "text/html": [
       "<div>\n",
       "<style scoped>\n",
       "    .dataframe tbody tr th:only-of-type {\n",
       "        vertical-align: middle;\n",
       "    }\n",
       "\n",
       "    .dataframe tbody tr th {\n",
       "        vertical-align: top;\n",
       "    }\n",
       "\n",
       "    .dataframe thead th {\n",
       "        text-align: right;\n",
       "    }\n",
       "</style>\n",
       "<table border=\"1\" class=\"dataframe\">\n",
       "  <thead>\n",
       "    <tr style=\"text-align: right;\">\n",
       "      <th></th>\n",
       "      <th>UPI Banks</th>\n",
       "      <th>Volume (Mn)</th>\n",
       "    </tr>\n",
       "  </thead>\n",
       "  <tbody>\n",
       "    <tr>\n",
       "      <th>51</th>\n",
       "      <td>PhonePe</td>\n",
       "      <td>17470.81</td>\n",
       "    </tr>\n",
       "    <tr>\n",
       "      <th>26</th>\n",
       "      <td>Google Pay</td>\n",
       "      <td>13541.88</td>\n",
       "    </tr>\n",
       "    <tr>\n",
       "      <th>50</th>\n",
       "      <td>Paytm Payments Bank App</td>\n",
       "      <td>5640.23</td>\n",
       "    </tr>\n",
       "    <tr>\n",
       "      <th>5</th>\n",
       "      <td>Axis Bank Apps</td>\n",
       "      <td>841.62</td>\n",
       "    </tr>\n",
       "    <tr>\n",
       "      <th>3</th>\n",
       "      <td>Amazon Pay</td>\n",
       "      <td>704.15</td>\n",
       "    </tr>\n",
       "    <tr>\n",
       "      <th>67</th>\n",
       "      <td>Yes Bank Apps</td>\n",
       "      <td>293.08</td>\n",
       "    </tr>\n",
       "    <tr>\n",
       "      <th>6</th>\n",
       "      <td>BHIM</td>\n",
       "      <td>289.43</td>\n",
       "    </tr>\n",
       "    <tr>\n",
       "      <th>29</th>\n",
       "      <td>ICICI Bank Apps</td>\n",
       "      <td>227.74</td>\n",
       "    </tr>\n",
       "    <tr>\n",
       "      <th>1</th>\n",
       "      <td>Airtel Payments Bank Apps</td>\n",
       "      <td>109.80</td>\n",
       "    </tr>\n",
       "    <tr>\n",
       "      <th>16</th>\n",
       "      <td>Cred</td>\n",
       "      <td>80.96</td>\n",
       "    </tr>\n",
       "  </tbody>\n",
       "</table>\n",
       "</div>"
      ],
      "text/plain": [
       "                    UPI Banks  Volume (Mn)\n",
       "51                    PhonePe     17470.81\n",
       "26                 Google Pay     13541.88\n",
       "50    Paytm Payments Bank App      5640.23\n",
       "5              Axis Bank Apps       841.62\n",
       "3                  Amazon Pay       704.15\n",
       "67              Yes Bank Apps       293.08\n",
       "6                        BHIM       289.43\n",
       "29            ICICI Bank Apps       227.74\n",
       "1   Airtel Payments Bank Apps       109.80\n",
       "16                       Cred        80.96"
      ]
     },
     "execution_count": 25,
     "metadata": {},
     "output_type": "execute_result"
    }
   ],
   "source": [
    "top_10_highest_volume_Mn.head(10)"
   ]
  },
  {
   "cell_type": "markdown",
   "id": "6af100e2",
   "metadata": {
    "papermill": {
     "duration": 0.047079,
     "end_time": "2022-01-22T09:43:11.018621",
     "exception": false,
     "start_time": "2022-01-22T09:43:10.971542",
     "status": "completed"
    },
    "tags": []
   },
   "source": [
    "# Value (Cr)"
   ]
  },
  {
   "cell_type": "code",
   "execution_count": 26,
   "id": "ca73f937",
   "metadata": {
    "execution": {
     "iopub.execute_input": "2022-01-22T09:43:11.115346Z",
     "iopub.status.busy": "2022-01-22T09:43:11.114743Z",
     "iopub.status.idle": "2022-01-22T09:43:11.121072Z",
     "shell.execute_reply": "2022-01-22T09:43:11.120592Z",
     "shell.execute_reply.started": "2022-01-22T09:38:05.324608Z"
    },
    "papermill": {
     "duration": 0.05508,
     "end_time": "2022-01-22T09:43:11.121181",
     "exception": false,
     "start_time": "2022-01-22T09:43:11.066101",
     "status": "completed"
    },
    "tags": []
   },
   "outputs": [],
   "source": [
    "total = data.groupby(['UPI Banks']).agg({'Value (Cr)':'sum'}).reset_index()\n",
    "top_10_highest_volume_Cr = total.sort_values(by = 'Value (Cr)',ascending = False)"
   ]
  },
  {
   "cell_type": "code",
   "execution_count": 27,
   "id": "923b61f0",
   "metadata": {
    "execution": {
     "iopub.execute_input": "2022-01-22T09:43:11.218293Z",
     "iopub.status.busy": "2022-01-22T09:43:11.217700Z",
     "iopub.status.idle": "2022-01-22T09:43:11.225102Z",
     "shell.execute_reply": "2022-01-22T09:43:11.225481Z",
     "shell.execute_reply.started": "2022-01-22T09:38:14.377940Z"
    },
    "papermill": {
     "duration": 0.056662,
     "end_time": "2022-01-22T09:43:11.225621",
     "exception": false,
     "start_time": "2022-01-22T09:43:11.168959",
     "status": "completed"
    },
    "tags": []
   },
   "outputs": [
    {
     "data": {
      "text/html": [
       "<div>\n",
       "<style scoped>\n",
       "    .dataframe tbody tr th:only-of-type {\n",
       "        vertical-align: middle;\n",
       "    }\n",
       "\n",
       "    .dataframe tbody tr th {\n",
       "        vertical-align: top;\n",
       "    }\n",
       "\n",
       "    .dataframe thead th {\n",
       "        text-align: right;\n",
       "    }\n",
       "</style>\n",
       "<table border=\"1\" class=\"dataframe\">\n",
       "  <thead>\n",
       "    <tr style=\"text-align: right;\">\n",
       "      <th></th>\n",
       "      <th>UPI Banks</th>\n",
       "      <th>Value (Cr)</th>\n",
       "    </tr>\n",
       "  </thead>\n",
       "  <tbody>\n",
       "    <tr>\n",
       "      <th>51</th>\n",
       "      <td>PhonePe</td>\n",
       "      <td>3365727.06</td>\n",
       "    </tr>\n",
       "    <tr>\n",
       "      <th>26</th>\n",
       "      <td>Google Pay</td>\n",
       "      <td>2737496.81</td>\n",
       "    </tr>\n",
       "    <tr>\n",
       "      <th>50</th>\n",
       "      <td>Paytm Payments Bank App</td>\n",
       "      <td>669189.79</td>\n",
       "    </tr>\n",
       "    <tr>\n",
       "      <th>16</th>\n",
       "      <td>Cred</td>\n",
       "      <td>97013.60</td>\n",
       "    </tr>\n",
       "    <tr>\n",
       "      <th>6</th>\n",
       "      <td>BHIM</td>\n",
       "      <td>91106.89</td>\n",
       "    </tr>\n",
       "    <tr>\n",
       "      <th>29</th>\n",
       "      <td>ICICI Bank Apps</td>\n",
       "      <td>62297.95</td>\n",
       "    </tr>\n",
       "    <tr>\n",
       "      <th>67</th>\n",
       "      <td>Yes Bank Apps</td>\n",
       "      <td>61299.32</td>\n",
       "    </tr>\n",
       "    <tr>\n",
       "      <th>3</th>\n",
       "      <td>Amazon Pay</td>\n",
       "      <td>60962.34</td>\n",
       "    </tr>\n",
       "    <tr>\n",
       "      <th>1</th>\n",
       "      <td>Airtel Payments Bank Apps</td>\n",
       "      <td>40586.97</td>\n",
       "    </tr>\n",
       "    <tr>\n",
       "      <th>60</th>\n",
       "      <td>State Bank of India Apps</td>\n",
       "      <td>25357.39</td>\n",
       "    </tr>\n",
       "  </tbody>\n",
       "</table>\n",
       "</div>"
      ],
      "text/plain": [
       "                    UPI Banks  Value (Cr)\n",
       "51                    PhonePe  3365727.06\n",
       "26                 Google Pay  2737496.81\n",
       "50    Paytm Payments Bank App   669189.79\n",
       "16                       Cred    97013.60\n",
       "6                        BHIM    91106.89\n",
       "29            ICICI Bank Apps    62297.95\n",
       "67              Yes Bank Apps    61299.32\n",
       "3                  Amazon Pay    60962.34\n",
       "1   Airtel Payments Bank Apps    40586.97\n",
       "60   State Bank of India Apps    25357.39"
      ]
     },
     "execution_count": 27,
     "metadata": {},
     "output_type": "execute_result"
    }
   ],
   "source": [
    "top_10_highest_volume_Cr.head(10)"
   ]
  },
  {
   "cell_type": "code",
   "execution_count": null,
   "id": "8d6da55b",
   "metadata": {
    "papermill": {
     "duration": 0.031062,
     "end_time": "2022-01-22T09:43:11.288728",
     "exception": false,
     "start_time": "2022-01-22T09:43:11.257666",
     "status": "completed"
    },
    "tags": []
   },
   "outputs": [],
   "source": []
  },
  {
   "cell_type": "markdown",
   "id": "bb89c365",
   "metadata": {
    "papermill": {
     "duration": 0.031293,
     "end_time": "2022-01-22T09:43:11.351804",
     "exception": false,
     "start_time": "2022-01-22T09:43:11.320511",
     "status": "completed"
    },
    "tags": []
   },
   "source": [
    "# Let's check volume trend for using only PhonePe Payments method"
   ]
  },
  {
   "cell_type": "code",
   "execution_count": 28,
   "id": "a337c89a",
   "metadata": {
    "execution": {
     "iopub.execute_input": "2022-01-22T09:43:11.419483Z",
     "iopub.status.busy": "2022-01-22T09:43:11.418910Z",
     "iopub.status.idle": "2022-01-22T09:43:11.421333Z",
     "shell.execute_reply": "2022-01-22T09:43:11.420864Z",
     "shell.execute_reply.started": "2022-01-22T09:32:00.160713Z"
    },
    "papermill": {
     "duration": 0.037702,
     "end_time": "2022-01-22T09:43:11.421430",
     "exception": false,
     "start_time": "2022-01-22T09:43:11.383728",
     "status": "completed"
    },
    "tags": []
   },
   "outputs": [],
   "source": [
    "phonePe_Payment = (data.loc[data['UPI Banks'] == 'PhonePe'])"
   ]
  },
  {
   "cell_type": "code",
   "execution_count": 29,
   "id": "46c0a16a",
   "metadata": {
    "execution": {
     "iopub.execute_input": "2022-01-22T09:43:11.488548Z",
     "iopub.status.busy": "2022-01-22T09:43:11.488104Z",
     "iopub.status.idle": "2022-01-22T09:43:11.502616Z",
     "shell.execute_reply": "2022-01-22T09:43:11.503029Z",
     "shell.execute_reply.started": "2022-01-22T09:32:00.169541Z"
    },
    "papermill": {
     "duration": 0.049642,
     "end_time": "2022-01-22T09:43:11.503144",
     "exception": false,
     "start_time": "2022-01-22T09:43:11.453502",
     "status": "completed"
    },
    "tags": []
   },
   "outputs": [
    {
     "data": {
      "text/html": [
       "<div>\n",
       "<style scoped>\n",
       "    .dataframe tbody tr th:only-of-type {\n",
       "        vertical-align: middle;\n",
       "    }\n",
       "\n",
       "    .dataframe tbody tr th {\n",
       "        vertical-align: top;\n",
       "    }\n",
       "\n",
       "    .dataframe thead th {\n",
       "        text-align: right;\n",
       "    }\n",
       "</style>\n",
       "<table border=\"1\" class=\"dataframe\">\n",
       "  <thead>\n",
       "    <tr style=\"text-align: right;\">\n",
       "      <th></th>\n",
       "      <th>UPI Banks</th>\n",
       "      <th>Volume (Mn) By Costumers</th>\n",
       "      <th>Value (Cr) by Costumers</th>\n",
       "      <th>Volume (Mn)</th>\n",
       "      <th>Value (Cr)</th>\n",
       "      <th>Month</th>\n",
       "      <th>Year</th>\n",
       "    </tr>\n",
       "  </thead>\n",
       "  <tbody>\n",
       "    <tr>\n",
       "      <th>487</th>\n",
       "      <td>PhonePe</td>\n",
       "      <td>2077.60</td>\n",
       "      <td>394565.58</td>\n",
       "      <td>2077.60</td>\n",
       "      <td>394565.58</td>\n",
       "      <td>12</td>\n",
       "      <td>2021</td>\n",
       "    </tr>\n",
       "    <tr>\n",
       "      <th>488</th>\n",
       "      <td>PhonePe</td>\n",
       "      <td>1911.21</td>\n",
       "      <td>365044.32</td>\n",
       "      <td>1911.21</td>\n",
       "      <td>365044.32</td>\n",
       "      <td>11</td>\n",
       "      <td>2021</td>\n",
       "    </tr>\n",
       "    <tr>\n",
       "      <th>489</th>\n",
       "      <td>PhonePe</td>\n",
       "      <td>1937.57</td>\n",
       "      <td>365845.39</td>\n",
       "      <td>1937.57</td>\n",
       "      <td>365845.39</td>\n",
       "      <td>10</td>\n",
       "      <td>2021</td>\n",
       "    </tr>\n",
       "    <tr>\n",
       "      <th>490</th>\n",
       "      <td>PhonePe</td>\n",
       "      <td>1653.19</td>\n",
       "      <td>306437.37</td>\n",
       "      <td>1653.19</td>\n",
       "      <td>306437.37</td>\n",
       "      <td>9</td>\n",
       "      <td>2021</td>\n",
       "    </tr>\n",
       "    <tr>\n",
       "      <th>491</th>\n",
       "      <td>PhonePe</td>\n",
       "      <td>1622.95</td>\n",
       "      <td>301644.80</td>\n",
       "      <td>1622.95</td>\n",
       "      <td>301644.80</td>\n",
       "      <td>8</td>\n",
       "      <td>2021</td>\n",
       "    </tr>\n",
       "    <tr>\n",
       "      <th>492</th>\n",
       "      <td>PhonePe</td>\n",
       "      <td>1492.09</td>\n",
       "      <td>288573.00</td>\n",
       "      <td>1492.09</td>\n",
       "      <td>288572.90</td>\n",
       "      <td>7</td>\n",
       "      <td>2021</td>\n",
       "    </tr>\n",
       "    <tr>\n",
       "      <th>493</th>\n",
       "      <td>PhonePe</td>\n",
       "      <td>1292.71</td>\n",
       "      <td>262565.88</td>\n",
       "      <td>1292.71</td>\n",
       "      <td>262565.88</td>\n",
       "      <td>6</td>\n",
       "      <td>2021</td>\n",
       "    </tr>\n",
       "    <tr>\n",
       "      <th>494</th>\n",
       "      <td>PhonePe</td>\n",
       "      <td>1149.84</td>\n",
       "      <td>234123.57</td>\n",
       "      <td>1149.84</td>\n",
       "      <td>234123.57</td>\n",
       "      <td>5</td>\n",
       "      <td>2021</td>\n",
       "    </tr>\n",
       "    <tr>\n",
       "      <th>495</th>\n",
       "      <td>PhonePe</td>\n",
       "      <td>1189.89</td>\n",
       "      <td>234023.33</td>\n",
       "      <td>1189.89</td>\n",
       "      <td>234023.33</td>\n",
       "      <td>4</td>\n",
       "      <td>2021</td>\n",
       "    </tr>\n",
       "    <tr>\n",
       "      <th>496</th>\n",
       "      <td>PhonePe</td>\n",
       "      <td>1199.51</td>\n",
       "      <td>231412.33</td>\n",
       "      <td>1199.51</td>\n",
       "      <td>231412.33</td>\n",
       "      <td>3</td>\n",
       "      <td>2021</td>\n",
       "    </tr>\n",
       "    <tr>\n",
       "      <th>497</th>\n",
       "      <td>PhonePe</td>\n",
       "      <td>975.53</td>\n",
       "      <td>189517.82</td>\n",
       "      <td>975.53</td>\n",
       "      <td>189517.82</td>\n",
       "      <td>2</td>\n",
       "      <td>2021</td>\n",
       "    </tr>\n",
       "    <tr>\n",
       "      <th>498</th>\n",
       "      <td>PhonePe</td>\n",
       "      <td>968.72</td>\n",
       "      <td>191973.77</td>\n",
       "      <td>968.72</td>\n",
       "      <td>191973.77</td>\n",
       "      <td>1</td>\n",
       "      <td>2021</td>\n",
       "    </tr>\n",
       "  </tbody>\n",
       "</table>\n",
       "</div>"
      ],
      "text/plain": [
       "    UPI Banks  Volume (Mn) By Costumers  Value (Cr) by Costumers  Volume (Mn)  \\\n",
       "487   PhonePe                   2077.60                394565.58      2077.60   \n",
       "488   PhonePe                   1911.21                365044.32      1911.21   \n",
       "489   PhonePe                   1937.57                365845.39      1937.57   \n",
       "490   PhonePe                   1653.19                306437.37      1653.19   \n",
       "491   PhonePe                   1622.95                301644.80      1622.95   \n",
       "492   PhonePe                   1492.09                288573.00      1492.09   \n",
       "493   PhonePe                   1292.71                262565.88      1292.71   \n",
       "494   PhonePe                   1149.84                234123.57      1149.84   \n",
       "495   PhonePe                   1189.89                234023.33      1189.89   \n",
       "496   PhonePe                   1199.51                231412.33      1199.51   \n",
       "497   PhonePe                    975.53                189517.82       975.53   \n",
       "498   PhonePe                    968.72                191973.77       968.72   \n",
       "\n",
       "     Value (Cr)  Month  Year  \n",
       "487   394565.58     12  2021  \n",
       "488   365044.32     11  2021  \n",
       "489   365845.39     10  2021  \n",
       "490   306437.37      9  2021  \n",
       "491   301644.80      8  2021  \n",
       "492   288572.90      7  2021  \n",
       "493   262565.88      6  2021  \n",
       "494   234123.57      5  2021  \n",
       "495   234023.33      4  2021  \n",
       "496   231412.33      3  2021  \n",
       "497   189517.82      2  2021  \n",
       "498   191973.77      1  2021  "
      ]
     },
     "execution_count": 29,
     "metadata": {},
     "output_type": "execute_result"
    }
   ],
   "source": [
    "phonePe_Payment"
   ]
  },
  {
   "cell_type": "code",
   "execution_count": 30,
   "id": "0c82d4c3",
   "metadata": {
    "execution": {
     "iopub.execute_input": "2022-01-22T09:43:11.569636Z",
     "iopub.status.busy": "2022-01-22T09:43:11.569180Z",
     "iopub.status.idle": "2022-01-22T09:43:11.770273Z",
     "shell.execute_reply": "2022-01-22T09:43:11.770665Z",
     "shell.execute_reply.started": "2022-01-22T09:32:00.194596Z"
    },
    "papermill": {
     "duration": 0.235768,
     "end_time": "2022-01-22T09:43:11.770794",
     "exception": false,
     "start_time": "2022-01-22T09:43:11.535026",
     "status": "completed"
    },
    "tags": []
   },
   "outputs": [
    {
     "data": {
      "image/png": "[encoded data removed]",
      "text/plain": [
       "<Figure size 720x432 with 1 Axes>"
      ]
     },
     "metadata": {},
     "output_type": "display_data"
    }
   ],
   "source": [
    "plt.figure(figsize=(10,6))\n",
    "sns.set_style(\"whitegrid\")\n",
    "sns.lineplot(x='Month',y='Volume (Mn) By Costumers',data =phonePe_Payment)\n",
    "plt.xlabel('Month',fontweight='bold',size = 12) \n",
    "plt.ylabel('Volume (Mn) By Costumers',fontweight='bold',size = 12) \n",
    "plt.title(\"Trend Month v/s Volume (Mn) By Costumers for only phonePe_Payment \",fontweight='bold',size = 12)\n",
    "plt.show()"
   ]
  },
  {
   "cell_type": "code",
   "execution_count": 31,
   "id": "e033eeff",
   "metadata": {
    "execution": {
     "iopub.execute_input": "2022-01-22T09:43:11.844725Z",
     "iopub.status.busy": "2022-01-22T09:43:11.844266Z",
     "iopub.status.idle": "2022-01-22T09:43:12.039911Z",
     "shell.execute_reply": "2022-01-22T09:43:12.039503Z",
     "shell.execute_reply.started": "2022-01-22T09:32:00.464225Z"
    },
    "papermill": {
     "duration": 0.235442,
     "end_time": "2022-01-22T09:43:12.040009",
     "exception": false,
     "start_time": "2022-01-22T09:43:11.804567",
     "status": "completed"
    },
    "tags": []
   },
   "outputs": [
    {
     "data": {
      "image/png": "[encoded data removed]",
      "text/plain": [
       "<Figure size 720x432 with 1 Axes>"
      ]
     },
     "metadata": {},
     "output_type": "display_data"
    }
   ],
   "source": [
    "plt.figure(figsize=(10,6))\n",
    "sns.set_style(\"whitegrid\")\n",
    "sns.lineplot(x='Month',y='Value (Cr) by Costumers',data =phonePe_Payment)\n",
    "plt.xlabel('Month',fontweight='bold',size = 12) \n",
    "plt.ylabel('Value (Cr) by Costumers',fontweight='bold',size = 12) \n",
    "plt.title(\"Trend Month v/s Value (Cr) by Costumers phonePe_Payment\",fontweight='bold',size = 12)\n",
    "plt.show()"
   ]
  },
  {
   "cell_type": "code",
   "execution_count": 32,
   "id": "5ab53a7d",
   "metadata": {
    "execution": {
     "iopub.execute_input": "2022-01-22T09:43:12.132674Z",
     "iopub.status.busy": "2022-01-22T09:43:12.131904Z",
     "iopub.status.idle": "2022-01-22T09:43:12.306096Z",
     "shell.execute_reply": "2022-01-22T09:43:12.305702Z",
     "shell.execute_reply.started": "2022-01-22T09:32:00.723829Z"
    },
    "papermill": {
     "duration": 0.231897,
     "end_time": "2022-01-22T09:43:12.306195",
     "exception": false,
     "start_time": "2022-01-22T09:43:12.074298",
     "status": "completed"
    },
    "tags": []
   },
   "outputs": [
    {
     "data": {
      "image/png": "[encoded data removed]",
      "text/plain": [
       "<Figure size 720x432 with 1 Axes>"
      ]
     },
     "metadata": {},
     "output_type": "display_data"
    }
   ],
   "source": [
    "plt.figure(figsize=(10,6))\n",
    "sns.set_style(\"whitegrid\")\n",
    "sns.lineplot(x='Month',y='Volume (Mn)',data =phonePe_Payment)\n",
    "plt.xlabel('Month',fontweight='bold',size = 12) \n",
    "plt.ylabel('Volume (Mn)',fontweight='bold',size = 12) \n",
    "plt.title(\"Trend Month v/s Volume (Mn) by Costumers phonePe_Payment\",fontweight='bold',size = 12)\n",
    "plt.show()"
   ]
  },
  {
   "cell_type": "code",
   "execution_count": 33,
   "id": "dff4b233",
   "metadata": {
    "execution": {
     "iopub.execute_input": "2022-01-22T09:43:12.379683Z",
     "iopub.status.busy": "2022-01-22T09:43:12.379015Z",
     "iopub.status.idle": "2022-01-22T09:43:12.566620Z",
     "shell.execute_reply": "2022-01-22T09:43:12.567058Z",
     "shell.execute_reply.started": "2022-01-22T09:32:01.441401Z"
    },
    "papermill": {
     "duration": 0.226127,
     "end_time": "2022-01-22T09:43:12.567174",
     "exception": false,
     "start_time": "2022-01-22T09:43:12.341047",
     "status": "completed"
    },
    "tags": []
   },
   "outputs": [
    {
     "data": {
      "image/png": "[encoded data removed]",
      "text/plain": [
       "<Figure size 720x432 with 1 Axes>"
      ]
     },
     "metadata": {},
     "output_type": "display_data"
    }
   ],
   "source": [
    "plt.figure(figsize=(10,6))\n",
    "sns.set_style(\"whitegrid\")\n",
    "sns.lineplot(x='Month',y='Value (Cr)',data =phonePe_Payment)\n",
    "plt.xlabel('Month',fontweight='bold',size = 12) \n",
    "plt.ylabel('Value (Cr)',fontweight='bold',size = 12) \n",
    "plt.title(\"Trend Month v/s Value (Cr) phonePe_Payment\",fontweight='bold',size = 12)\n",
    "plt.show()"
   ]
  },
  {
   "cell_type": "markdown",
   "id": "6a6ea495",
   "metadata": {
    "papermill": {
     "duration": 0.035509,
     "end_time": "2022-01-22T09:43:12.638384",
     "exception": false,
     "start_time": "2022-01-22T09:43:12.602875",
     "status": "completed"
    },
    "tags": []
   },
   "source": [
    "<h1>Thank you</h1>"
   ]
  },
  {
   "cell_type": "markdown",
   "id": "073532cc",
   "metadata": {
    "papermill": {
     "duration": 0.035417,
     "end_time": "2022-01-22T09:43:12.709389",
     "exception": false,
     "start_time": "2022-01-22T09:43:12.673972",
     "status": "completed"
    },
    "tags": []
   },
   "source": [
    "\n",
    "![](https://c.tenor.com/DNcloOrW8q8AAAAC/thank-you.gif)"
   ]
  }
 ],
 "metadata": {
  "kernelspec": {
   "display_name": "Python 3 (ipykernel)",
   "language": "python",
   "name": "python3"
  },
  "language_info": {
   "codemirror_mode": {
    "name": "ipython",
    "version": 3
   },
   "file_extension": ".py",
   "mimetype": "text/x-python",
   "name": "python",
   "nbconvert_exporter": "python",
   "pygments_lexer": "ipython3",
   "version": "3.9.7"
  },
  "papermill": {
   "default_parameters": {},
   "duration": 14.357631,
   "end_time": "2022-01-22T09:43:13.252923",
   "environment_variables": {},
   "exception": null,
   "input_path": "__notebook__.ipynb",
   "output_path": "__notebook__.ipynb",
   "parameters": {},
   "start_time": "2022-01-22T09:42:58.895292",
   "version": "2.3.3"
  }
 },
 "nbformat": 4,
 "nbformat_minor": 5
}
